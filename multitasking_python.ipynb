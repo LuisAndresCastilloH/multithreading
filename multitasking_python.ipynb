from concurrent.futures import ProcessPoolExecutor, ThreadPoolExecutor
import numpy as np
import time
import matplotlib.pyplot as plt
import glob
from PIL import Image
import random
import string
%matplotlib inline
